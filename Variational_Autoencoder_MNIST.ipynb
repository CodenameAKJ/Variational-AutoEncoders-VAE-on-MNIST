{
 "cells": [
  {
   "cell_type": "code",
   "execution_count": 1,
   "id": "4ce5460a-86ec-4fb2-a171-57639b11d554",
   "metadata": {},
   "outputs": [],
   "source": [
    "import numpy as np\n",
    "import tensorflow as tf \n",
    "from tensorflow.keras.layers import Dense,Input\n",
    "from tensorflow.keras.models import Model\n",
    "from tensorflow.keras.optimizers import Adam\n",
    "import matplotlib.pyplot as plt"
   ]
  },
  {
   "cell_type": "code",
   "execution_count": 2,
   "id": "e1e11903-2b83-45b0-ace1-2756e40cb336",
   "metadata": {},
   "outputs": [],
   "source": [
    "from tensorflow.keras.datasets import mnist\n",
    "(X_train,y_train),(X_test,y_test) = mnist.load_data()"
   ]
  },
  {
   "cell_type": "code",
   "execution_count": 3,
   "id": "c9a1e64d-c9d2-47b8-bcf9-fd0ca82e5c62",
   "metadata": {},
   "outputs": [
    {
     "name": "stdout",
     "output_type": "stream",
     "text": [
      "(60000, 28, 28)\n",
      "(60000,)\n",
      "(10000, 28, 28)\n",
      "(10000,)\n"
     ]
    }
   ],
   "source": [
    "print(X_train.shape)\n",
    "print(y_train.shape)\n",
    "print(X_test.shape)\n",
    "print(y_test.shape)"
   ]
  },
  {
   "cell_type": "code",
   "execution_count": 4,
   "id": "7141220b-c619-41be-b0ab-e672b14e5e3d",
   "metadata": {},
   "outputs": [],
   "source": [
    "#reshape and normalizing\n",
    "X_train = X_train.reshape(X_train.shape[0],28*28).astype('float32')/255\n",
    "X_test =  X_test.reshape(X_test.shape[0],28*28).astype('float32')/255"
   ]
  },
  {
   "cell_type": "code",
   "execution_count": 5,
   "id": "14965337-68e2-4255-9016-862d47c7550e",
   "metadata": {
    "scrolled": true
   },
   "outputs": [],
   "source": [
    "batch_size = 2048\n",
    "X_train_batch = tf.data.Dataset.from_tensor_slices(X_train).shuffle(1024).batch(batch_size)"
   ]
  },
  {
   "cell_type": "code",
   "execution_count": 6,
   "id": "108dafbf-9d74-416e-b6ba-96ae098a9e61",
   "metadata": {},
   "outputs": [],
   "source": [
    "lat_dim = 32 #Latent space dimension"
   ]
  },
  {
   "cell_type": "code",
   "execution_count": 7,
   "id": "75141d73-8152-4582-8510-3a3ea5b50745",
   "metadata": {},
   "outputs": [],
   "source": [
    "#reparameterization trick\n",
    "\n",
    "def reparameterize(mu,logvar):\n",
    "    std  = tf.exp( 0.5 * logvar)\n",
    "    eps = tf.random.normal(tf.shape(logvar))\n",
    "    z = mu + eps*std\n",
    "    return z"
   ]
  },
  {
   "cell_type": "code",
   "execution_count": 8,
   "id": "c2bb0fbe-0047-4598-8f91-6fb41770068d",
   "metadata": {},
   "outputs": [],
   "source": [
    "#encoder layers\n",
    "\n",
    "i = Input(shape = (X_train.shape[1]),)\n",
    "enc_1 = Dense(256,activation = 'relu')\n",
    "enc_2 = Dense(128,activation = 'relu')\n",
    "enc_3 = Dense(64,activation = 'relu')\n",
    "    \n",
    "enc_mu = Dense(lat_dim)\n",
    "enc_logvar = Dense(lat_dim)\n",
    "    \n",
    "#Decoder layers\n",
    "dec_1 = Dense(128,activation = 'relu')\n",
    "dec_2 = Dense(256,activation = 'relu')\n",
    "dec_3 = Dense(512,activation = 'relu')\n",
    "dec_4 = Dense(X_train.shape[1],activation = 'sigmoid')\n"
   ]
  },
  {
   "cell_type": "code",
   "execution_count": 9,
   "id": "3fae80b6-a872-46d4-b493-4675cdb0de54",
   "metadata": {},
   "outputs": [],
   "source": [
    "def forwardprop(x):\n",
    "    #encoder\n",
    "    \n",
    "    l2 = enc_1(x)\n",
    "    l3 = enc_2(l2)\n",
    "    l4 = enc_3(l3)\n",
    "\n",
    "    mu = enc_mu(l4)\n",
    "    logvar = enc_logvar(l4)\n",
    "    z = reparameterize(mu,logvar)\n",
    "\n",
    "    #decoder\n",
    "    l5 = dec_1(z)\n",
    "    l6 = dec_2(l5)\n",
    "    l7 = dec_3(l6)\n",
    "    l8 = dec_4(l7)\n",
    "\n",
    "    return l8,z,mu,logvar\n"
   ]
  },
  {
   "cell_type": "code",
   "execution_count": 10,
   "id": "f670d541-5ea1-4999-9e18-1879f3576a22",
   "metadata": {},
   "outputs": [],
   "source": [
    "def comp_loss(x,xhat,mu,logvar,kl_w = 1,rec_w = 1):\n",
    "\n",
    "    #reconstruction loss\n",
    "    rec_loss = tf.reduce_mean(tf.reduce_sum((x - xhat)**2,axis = 1))\n",
    "    #print(rec_loss.shape)\n",
    "    \n",
    "    #kl divergence\n",
    "    kl_loss_per_image = - 0.5*tf.reduce_sum((1 + logvar - tf.exp(logvar) - tf.square(mu)),axis = 1)\n",
    "    kl_loss = tf.reduce_mean(kl_loss_per_image)\n",
    "    #print(kl_loss.shape)\n",
    "    \n",
    "    loss =  kl_w * kl_loss + rec_w * rec_loss\n",
    "    return loss\n",
    "    "
   ]
  },
  {
   "cell_type": "code",
   "execution_count": 11,
   "id": "0ac5b45f-a269-45bb-8a77-f83c5b21cdb8",
   "metadata": {},
   "outputs": [],
   "source": [
    "#Backpropagation\n",
    "\n",
    "def backprop(X,optimizer,kl_w,rec_w):\n",
    "    \n",
    "    with tf.GradientTape() as tape:\n",
    "        \n",
    "        xhat,z,mu,logvar =  forwardprop(X)\n",
    "        loss  = comp_loss(X,xhat,mu,logvar,kl_w,rec_w)\n",
    "        \n",
    "    train_var = (enc_1.trainable_variables + enc_2.trainable_variables + enc_3.trainable_variables +\n",
    "                 enc_mu.trainable_variables + enc_logvar.trainable_variables + dec_1.trainable_variables +\n",
    "                 dec_2.trainable_variables + dec_3.trainable_variables + dec_4.trainable_variables\n",
    "                )\n",
    "    grad = tape.gradient(loss,train_var)\n",
    "\n",
    "    optimizer.apply_gradients(zip(grad,train_var))\n",
    "    \n",
    "    return loss\n",
    "        "
   ]
  },
  {
   "cell_type": "code",
   "execution_count": 12,
   "id": "02bd27f4-da0f-4678-94f1-1d345ca9a29f",
   "metadata": {},
   "outputs": [],
   "source": [
    "#For non-batch training \n",
    "\n",
    "# def model_train(epochs,opt,X):\n",
    "#     loss_train = []\n",
    "#     for i in range(epochs):\n",
    "#         loss = backprop(X,opt)\n",
    "#         loss_train.append(loss)\n",
    "#         print(f'Epochs : {i + 1}, Loss : {loss}')\n",
    "#     return loss_train   "
   ]
  },
  {
   "cell_type": "code",
   "execution_count": 13,
   "id": "2f951eef-8b95-417e-a7d7-d29568512880",
   "metadata": {},
   "outputs": [],
   "source": [
    "def model_train(epochs,opt,X,kl_w = 1,rec_w = 1):\n",
    "    loss_train = []\n",
    "    for i in range(epochs):\n",
    "        total_loss = tf.Variable(0.0, dtype = tf.float32)\n",
    "        batch_count = 0\n",
    "        for batch in X:\n",
    "            loss = backprop(batch,opt,kl_w,rec_w)\n",
    "            total_loss.assign_add(loss)\n",
    "            batch_count += 1\n",
    "        avg_loss = total_loss/tf.cast(batch_count,tf.float32) #batchcount tracks the total no.of batches.\n",
    "        loss_train.append(avg_loss.numpy())\n",
    "        print(f'Epochs : {i + 1}, Loss : {avg_loss}')\n",
    "    return loss_train   "
   ]
  },
  {
   "cell_type": "code",
   "execution_count": 14,
   "id": "426e17b3-cc9c-475a-8c8a-ff63fd878541",
   "metadata": {},
   "outputs": [
    {
     "name": "stdout",
     "output_type": "stream",
     "text": [
      "Epochs : 1, Loss : 60.298702239990234\n",
      "Epochs : 2, Loss : 49.8988037109375\n",
      "Epochs : 3, Loss : 47.50324249267578\n",
      "Epochs : 4, Loss : 44.10762405395508\n",
      "Epochs : 5, Loss : 41.70125961303711\n",
      "Epochs : 6, Loss : 38.83518600463867\n",
      "Epochs : 7, Loss : 35.53778839111328\n",
      "Epochs : 8, Loss : 32.86990737915039\n",
      "Epochs : 9, Loss : 30.58133316040039\n",
      "Epochs : 10, Loss : 28.38481330871582\n"
     ]
    }
   ],
   "source": [
    "opt =Adam(0.01)\n",
    "epochs = 10\n",
    "kl_weight = 0.1\n",
    "reconstruction_weight = 1\n",
    "\n",
    "loss_train = model_train(epochs,opt,X_train_batch,kl_weight,reconstruction_weight)"
   ]
  },
  {
   "cell_type": "code",
   "execution_count": 15,
   "id": "9a21f44e-a99f-426f-b574-1c3726743306",
   "metadata": {},
   "outputs": [
    {
     "data": {
      "text/plain": [
       "[60.298702,\n",
       " 49.898804,\n",
       " 47.503242,\n",
       " 44.107624,\n",
       " 41.70126,\n",
       " 38.835186,\n",
       " 35.53779,\n",
       " 32.869907,\n",
       " 30.581333,\n",
       " 28.384813]"
      ]
     },
     "execution_count": 15,
     "metadata": {},
     "output_type": "execute_result"
    }
   ],
   "source": [
    "loss_train"
   ]
  },
  {
   "cell_type": "code",
   "execution_count": 60,
   "id": "644dc8ff-149c-49ae-b381-7e9658d1c17a",
   "metadata": {},
   "outputs": [
    {
     "name": "stdout",
     "output_type": "stream",
     "text": [
      "tf.Tensor(\n",
      "[[ 0.60407066 -0.02244273  1.286396   -1.2646626  -1.2560265   0.75475436\n",
      "  -1.9868909  -0.0419913  -1.4818283   0.48380443  1.625084    2.56401\n",
      "   0.1948998  -0.49315768 -0.04702308  0.70136994 -1.9777867  -0.56507814\n",
      "   1.142638    1.1776972  -1.1424402   1.2913371   0.14256231 -2.2155378\n",
      "   0.10819807  0.40835264 -0.13743518  0.50141746  0.10529842 -0.0092417\n",
      "   0.15991598 -0.2714093 ]], shape=(1, 32), dtype=float32)\n"
     ]
    },
    {
     "data": {
      "image/png": "[encoded data removed]",
      "text/plain": [
       "<Figure size 300x300 with 1 Axes>"
      ]
     },
     "metadata": {},
     "output_type": "display_data"
    }
   ],
   "source": [
    "#Generating an image by passing a random sample from the latent space to decoder\n",
    "\n",
    "z_test = tf.random.normal((1,32))\n",
    "print(z_test)\n",
    "l5 = dec_1(z_test)\n",
    "l6 = dec_2(l5)\n",
    "l7 = dec_3(l6)\n",
    "l8 = dec_4(l7)\n",
    "\n",
    "gen_img = tf.reshape(l8,(28,28))\n",
    "plt.figure(figsize = (3,3))\n",
    "plt.imshow(gen_img*255,cmap = 'gray')\n",
    "plt.show()"
   ]
  },
  {
   "cell_type": "code",
   "execution_count": 17,
   "id": "18fe80b9-f5d1-48cf-98df-3b9118154d0d",
   "metadata": {},
   "outputs": [
    {
     "data": {
      "image/png": "[encoded data removed]",
      "text/plain": [
       "<Figure size 640x480 with 2 Axes>"
      ]
     },
     "metadata": {},
     "output_type": "display_data"
    }
   ],
   "source": [
    "# A test sample and its VAE generated image\n",
    "\n",
    "sample = X_test[700:701] #pick a sample(2D)\n",
    "xhat, z, mu, logvar = forwardprop(sample)\n",
    "plt.subplot(1, 2, 1)\n",
    "plt.imshow(sample.reshape(28, 28), cmap='gray')\n",
    "plt.title(\"Original\")\n",
    "\n",
    "plt.subplot(1, 2, 2)\n",
    "plt.imshow(xhat.numpy().reshape(28, 28), cmap='gray')\n",
    "plt.title(\"Reconstructed\")\n",
    "plt.show()"
   ]
  },
  {
   "cell_type": "code",
   "execution_count": null,
   "id": "86a44bd8-28f6-4208-be06-59a99a8990ff",
   "metadata": {},
   "outputs": [],
   "source": []
  }
 ],
 "metadata": {
  "kernelspec": {
   "display_name": "Python [conda env:tf_gpu]",
   "language": "python",
   "name": "conda-env-tf_gpu-py"
  },
  "language_info": {
   "codemirror_mode": {
    "name": "ipython",
    "version": 3
   },
   "file_extension": ".py",
   "mimetype": "text/x-python",
   "name": "python",
   "nbconvert_exporter": "python",
   "pygments_lexer": "ipython3",
   "version": "3.10.16"
  }
 },
 "nbformat": 4,
 "nbformat_minor": 5
}
